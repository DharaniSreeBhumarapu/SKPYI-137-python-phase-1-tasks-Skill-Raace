{
 "cells": [
  {
   "cell_type": "code",
   "execution_count": 1,
   "metadata": {},
   "outputs": [
    {
     "name": "stdout",
     "output_type": "stream",
     "text": [
      "Time's up!\n"
     ]
    }
   ],
   "source": [
    "import time\n",
    "\n",
    "def countdown_timer():\n",
    "    try:\n",
    "        seconds = int(input(\"Enter the time in seconds for the countdown: \"))\n",
    "        \n",
    "        if seconds < 0:\n",
    "            print(\"Please enter a positive integer.\")\n",
    "            return\n",
    "        \n",
    "        while seconds:\n",
    "            mins, secs = divmod(seconds, 60)\n",
    "            timer = '{:02d}:{:02d}'.format(mins, secs)\n",
    "            print(timer, end=\"\\r\")\n",
    "            time.sleep(1)\n",
    "            seconds -= 1\n",
    "        \n",
    "        print(\"Time's up!\")\n",
    "    \n",
    "    except ValueError:\n",
    "        print(\"Invalid input. Please enter an integer value.\")\n",
    "\n",
    "countdown_timer()\n",
    "\n",
    "\n",
    "\n"
   ]
  }
 ],
 "metadata": {
  "kernelspec": {
   "display_name": "Python 3",
   "language": "python",
   "name": "python3"
  },
  "language_info": {
   "codemirror_mode": {
    "name": "ipython",
    "version": 3
   },
   "file_extension": ".py",
   "mimetype": "text/x-python",
   "name": "python",
   "nbconvert_exporter": "python",
   "pygments_lexer": "ipython3",
   "version": "3.12.3"
  }
 },
 "nbformat": 4,
 "nbformat_minor": 2
}
