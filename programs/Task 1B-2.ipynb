{
 "cells": [
  {
   "cell_type": "code",
   "execution_count": 1,
   "metadata": {},
   "outputs": [
    {
     "name": "stdout",
     "output_type": "stream",
     "text": [
      "The relationship between dharani and lukesh is: Marriage\n"
     ]
    }
   ],
   "source": [
    "def remove_common_letters(name1, name2):\n",
    "    name1_list = list(name1)\n",
    "    name2_list = list(name2)\n",
    "    \n",
    "    for letter in name1_list[:]:\n",
    "        if letter in name2_list:\n",
    "            name1_list.remove(letter)\n",
    "            name2_list.remove(letter)\n",
    "    \n",
    "    return name1_list, name2_list\n",
    "\n",
    "def calculate_flames_count(name1, name2):\n",
    "    name1_list, name2_list = remove_common_letters(name1, name2)\n",
    "    return len(name1_list) + len(name2_list)\n",
    "\n",
    "def flames_relationship(count):\n",
    "    flames = ['F', 'L', 'A', 'M', 'E', 'S']\n",
    "    while len(flames) > 1:\n",
    "        index = (count % len(flames)) - 1\n",
    "        if index >= 0:\n",
    "            right = flames[index + 1:]\n",
    "            left = flames[:index]\n",
    "            flames = right + left\n",
    "        else:\n",
    "            flames = flames[:len(flames) - 1]\n",
    "    return flames[0]\n",
    "\n",
    "def flames_result(letter):\n",
    "    return {\n",
    "        'F': \"Friends\",\n",
    "        'L': \"Love\",\n",
    "        'A': \"Affection\",\n",
    "        'M': \"Marriage\",\n",
    "        'E': \"Enemies\",\n",
    "        'S': \"Siblings\"\n",
    "    }[letter]\n",
    "\n",
    "def main():\n",
    "    name1 = input(\"Enter the first name: \").replace(\" \", \"\").lower()\n",
    "    name2 = input(\"Enter the second name: \").replace(\" \", \"\").lower()\n",
    "    \n",
    "    count = calculate_flames_count(name1, name2)\n",
    "    result_letter = flames_relationship(count)\n",
    "    result = flames_result(result_letter)\n",
    "    \n",
    "    print(f\"The relationship between {name1} and {name2} is: {result}\")\n",
    "\n",
    "if __name__ == \"__main__\":\n",
    "    main()\n"
   ]
  }
 ],
 "metadata": {
  "kernelspec": {
   "display_name": "Python 3",
   "language": "python",
   "name": "python3"
  },
  "language_info": {
   "codemirror_mode": {
    "name": "ipython",
    "version": 3
   },
   "file_extension": ".py",
   "mimetype": "text/x-python",
   "name": "python",
   "nbconvert_exporter": "python",
   "pygments_lexer": "ipython3",
   "version": "3.12.3"
  }
 },
 "nbformat": 4,
 "nbformat_minor": 2
}
