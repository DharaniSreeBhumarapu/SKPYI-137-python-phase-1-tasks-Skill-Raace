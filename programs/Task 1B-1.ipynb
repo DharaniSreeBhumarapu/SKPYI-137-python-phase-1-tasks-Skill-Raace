{
 "cells": [
  {
   "cell_type": "code",
   "execution_count": 1,
   "metadata": {},
   "outputs": [
    {
     "name": "stdout",
     "output_type": "stream",
     "text": [
      "Royalty for the physical book: 2400.0\n",
      "Royalty for the ebook: 2112.0\n"
     ]
    }
   ],
   "source": [
    "class Book:\n",
    "    def __init__(self, title, author, publisher, price):\n",
    "        self._title = title\n",
    "        self._author = author\n",
    "        self._publisher = publisher\n",
    "        self._price = price\n",
    "    def title(self):\n",
    "        return self._title\n",
    "    def title(self, title):\n",
    "        self._title = title\n",
    "    def author(self):\n",
    "        return self._author\n",
    "    def author(self, author):\n",
    "        self._author = author\n",
    "    def publisher(self):\n",
    "        return self._publisher\n",
    "    def publisher(self, publisher):\n",
    "        self._publisher = publisher\n",
    "    def price(self):\n",
    "        return self._price\n",
    "    def price(self, price):\n",
    "        self._price = price\n",
    "\n",
    "    def royalty(self, copies_sold):\n",
    "        if copies_sold <= 500:\n",
    "            return copies_sold * self._price * 0.10\n",
    "        elif copies_sold <= 1500:\n",
    "            return (500 * self._price * 0.10) + ((copies_sold - 500) * self._price * 0.125)\n",
    "        else:\n",
    "            return (500 * self._price * 0.10) + (1000 * self._price * 0.125) + ((copies_sold - 1500) * self._price * 0.15)\n",
    "\n",
    "\n",
    "class Ebook(Book):\n",
    "    def __init__(self, title, author, publisher, price, format):\n",
    "        super().__init__(title, author, publisher, price)\n",
    "        self._format = format\n",
    "    def format(self):\n",
    "        return self._format\n",
    "    def format(self, format):\n",
    "        self._format = format\n",
    "\n",
    "    def royalty(self, copies_sold):\n",
    "        gross_royalty = super().royalty(copies_sold)\n",
    "        gst_deduction = gross_royalty * 0.12\n",
    "        return gross_royalty - gst_deduction\n",
    "\n",
    "\n",
    "\n",
    "if __name__ == \"__main__\":\n",
    "    title = input(\"Enter the book title: \")\n",
    "    author = input(\"Enter the author: \")\n",
    "    publisher = input(\"Enter the publisher: \")\n",
    "    price = float(input(\"Enter the price: \"))\n",
    "\n",
    "    book = Book(title, author, publisher, price)\n",
    "    ebook_format = input(\"Enter the ebook format (EPUB, PDF, MOBI, etc): \")\n",
    "    ebook = Ebook(title, author, publisher, price, ebook_format)\n",
    "\n",
    "    copies_sold = int(input(\"Enter the number of copies sold: \"))\n",
    "\n",
    "    print(f\"Royalty for the physical book: {book.royalty(copies_sold)}\")\n",
    "    print(f\"Royalty for the ebook: {ebook.royalty(copies_sold)}\")\n"
   ]
  }
 ],
 "metadata": {
  "kernelspec": {
   "display_name": "Python 3",
   "language": "python",
   "name": "python3"
  },
  "language_info": {
   "codemirror_mode": {
    "name": "ipython",
    "version": 3
   },
   "file_extension": ".py",
   "mimetype": "text/x-python",
   "name": "python",
   "nbconvert_exporter": "python",
   "pygments_lexer": "ipython3",
   "version": "3.12.3"
  }
 },
 "nbformat": 4,
 "nbformat_minor": 2
}
