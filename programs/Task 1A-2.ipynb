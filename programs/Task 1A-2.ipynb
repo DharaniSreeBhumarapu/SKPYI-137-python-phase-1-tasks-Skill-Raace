{
 "cells": [
  {
   "cell_type": "code",
   "execution_count": 1,
   "metadata": {},
   "outputs": [
    {
     "name": "stdout",
     "output_type": "stream",
     "text": [
      "Text with emojis: I love 😊 Python! 🐍❤️\n",
      "Text without emojis: I love :) Python! Pythonlove\n"
     ]
    }
   ],
   "source": [
    "emoji_mapping = {\n",
    "    \"😊\": \":)\",\n",
    "    \"🐍\": \"Python\",\n",
    "    \"❤️\": \"love\"\n",
    "}\n",
    "text_with_emojis = \"I love 😊 Python! 🐍❤️\"\n",
    "def replace_emojis_with_text(text, mapping):\n",
    "    for emoji, text_rep in mapping.items():\n",
    "        text = text.replace(emoji, text_rep)\n",
    "    return text\n",
    "\n",
    "text_without_emojis = replace_emojis_with_text(text_with_emojis, emoji_mapping)\n",
    "\n",
    "print(\"Text with emojis:\", text_with_emojis)\n",
    "print(\"Text without emojis:\", text_without_emojis)\n",
    "\n",
    "\n",
    "\n"
   ]
  }
 ],
 "metadata": {
  "kernelspec": {
   "display_name": "Python 3",
   "language": "python",
   "name": "python3"
  },
  "language_info": {
   "codemirror_mode": {
    "name": "ipython",
    "version": 3
   },
   "file_extension": ".py",
   "mimetype": "text/x-python",
   "name": "python",
   "nbconvert_exporter": "python",
   "pygments_lexer": "ipython3",
   "version": "3.12.3"
  }
 },
 "nbformat": 4,
 "nbformat_minor": 2
}
